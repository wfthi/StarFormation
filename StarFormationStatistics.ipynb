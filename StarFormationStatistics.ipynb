{
 "cells": [
  {
   "cell_type": "markdown",
   "metadata": {},
   "source": [
    "### Star Formation\n",
    "\n",
    "_Author Wing-Fai Thi_\n",
    "\n",
    "_Version 1.1 19/3/2018 add Bonamente's book in the reference_\n",
    "\n",
    "_ 1.2 1/4/2018 add mosaic and parallel coordinate plots and references_\n",
    "\n",
    "This notebook concerns two of the exercises in the book Modern Statistical Methods for Astronomy by E. Feigelson and J Babu. It shows that Data Science is not always about large amount of data. The results are howver very insightfull in the field of star- and protoplanetary- formation and early evolution.\n",
    "\n",
    "#### Aim of the notebook\n",
    "\n",
    "- Explore statistical methods applied to star-formation in nearby molceular clouds: contingency tables, hypothesis testings. More precisely, we will\n",
    "    - compare the χ2 test and Fisher exact test to evaluate whether multiple protostars are more likely to produce jets than single protostars.\n",
    "    - interpret standadized residual tables\n",
    "    - use the protostellar jet data to investigate various approaches to the binomial proportion problem\n",
    "    - analyse a contingency table of young star class membership in four nearby star-forming regions and derive an evolutionary scenario.\n",
    "    \n",
    "#### Reference\n",
    "- Massimiliano Bonamente, Statistics and Analysis of Scientific Data, 2nd edition, Springer\n",
    "- David Meyer, Achim Zeilies, Jurt Hornik Vizualising Contingency Tables in C. Chen, W. Haerdle, A. Unwin editors, Handbook of data Visualization, Springer\n",
    "- Alfred Inselberg Parallel Coordinates: Visualization, Exploration and Classification of high-Dimensional Data in Handbook of data Visualization, Springer"
   ]
  },
  {
   "cell_type": "code",
   "execution_count": 1,
   "metadata": {},
   "outputs": [],
   "source": [
    "import numpy as np\n",
    "import pandas as pd\n",
    "import matplotlib as mpl\n",
    "import matplotlib.pyplot as plt\n",
    "from matplotlib import rcParams\n",
    "from statsmodels.graphics.mosaicplot import mosaic\n",
    "from pandas.plotting import parallel_coordinates\n",
    "# get configuration file location\n",
    "#print (mpl.matplotlib_fname())\n",
    "\n",
    "# get configuration current settings\n",
    "#print (mpl.rcParams)\n",
    "\n",
    "# Change the default settings\n",
    "mpl.rcParams.update({'figure.figsize': (9.0, 7.0),\n",
    "                     'figure.dpi' : 300, # 300 dpi for print\n",
    "                    'font.size': 14,\n",
    "                     'legend.frameon': False,              \n",
    "                     'legend.fontsize' : 12, \n",
    "                     'xtick.labelsize' : 16,\n",
    "                     'ytick.labelsize' : 16,\n",
    "                     'axes.labelsize'  : 18  \n",
    "                    })"
   ]
  },
  {
   "cell_type": "markdown",
   "metadata": {},
   "source": [
    "One can create a mosaic plot from a contingency table. A mosiac plot allows to visualize multivariate categorical data in a rigorous and informative way."
   ]
  },
  {
   "cell_type": "code",
   "execution_count": 2,
   "metadata": {},
   "outputs": [],
   "source": [
    "# Load the 2x2 contingency table\n",
    "df= pd.read_csv(\"ProtostallarJets.csv\")"
   ]
  },
  {
   "cell_type": "markdown",
   "metadata": {},
   "source": [
    "#### Part 1\n",
    "\n",
    "The first part deals with the question: \n",
    "Does jets related to the multiplicity of the central object?\n",
    "\n",
    "The table below contains in a contingency/frequency table format the result of a survey of jets."
   ]
  },
  {
   "cell_type": "code",
   "execution_count": 3,
   "metadata": {},
   "outputs": [
    {
     "data": {
      "text/html": [
       "<div>\n",
       "<style scoped>\n",
       "    .dataframe tbody tr th:only-of-type {\n",
       "        vertical-align: middle;\n",
       "    }\n",
       "\n",
       "    .dataframe tbody tr th {\n",
       "        vertical-align: top;\n",
       "    }\n",
       "\n",
       "    .dataframe thead th {\n",
       "        text-align: right;\n",
       "    }\n",
       "</style>\n",
       "<table border=\"1\" class=\"dataframe\">\n",
       "  <thead>\n",
       "    <tr style=\"text-align: right;\">\n",
       "      <th></th>\n",
       "      <th>Multiplicity</th>\n",
       "      <th>No</th>\n",
       "      <th>Yes</th>\n",
       "      <th>Total</th>\n",
       "    </tr>\n",
       "  </thead>\n",
       "  <tbody>\n",
       "    <tr>\n",
       "      <th>0</th>\n",
       "      <td>Single</td>\n",
       "      <td>9</td>\n",
       "      <td>5</td>\n",
       "      <td>14</td>\n",
       "    </tr>\n",
       "    <tr>\n",
       "      <th>1</th>\n",
       "      <td>Multiple</td>\n",
       "      <td>2</td>\n",
       "      <td>5</td>\n",
       "      <td>7</td>\n",
       "    </tr>\n",
       "    <tr>\n",
       "      <th>2</th>\n",
       "      <td>Total</td>\n",
       "      <td>11</td>\n",
       "      <td>10</td>\n",
       "      <td>21</td>\n",
       "    </tr>\n",
       "  </tbody>\n",
       "</table>\n",
       "</div>"
      ],
      "text/plain": [
       "  Multiplicity  No  Yes  Total\n",
       "0       Single   9    5     14\n",
       "1     Multiple   2    5      7\n",
       "2        Total  11   10     21"
      ]
     },
     "execution_count": 3,
     "metadata": {},
     "output_type": "execute_result"
    }
   ],
   "source": [
    "df"
   ]
  },
  {
   "cell_type": "code",
   "execution_count": 4,
   "metadata": {},
   "outputs": [
    {
     "name": "stdout",
     "output_type": "stream",
     "text": [
      "General jet frequency: 0.47619047619\n"
     ]
    }
   ],
   "source": [
    "# multiplicity statistics\n",
    "print \"General jet frequency:\",10./21."
   ]
  },
  {
   "cell_type": "code",
   "execution_count": 5,
   "metadata": {},
   "outputs": [
    {
     "name": "stdout",
     "output_type": "stream",
     "text": [
      "Single protostar jet frequency: 0.357142857143\n"
     ]
    }
   ],
   "source": [
    "print \"Single protostar jet frequency:\",5./14."
   ]
  },
  {
   "cell_type": "code",
   "execution_count": 6,
   "metadata": {},
   "outputs": [
    {
     "name": "stdout",
     "output_type": "stream",
     "text": [
      "Multiple protostar jet frequency: 0.714285714286\n"
     ]
    }
   ],
   "source": [
    "print \"Multiple protostar jet frequency:\",5./7."
   ]
  },
  {
   "cell_type": "markdown",
   "metadata": {},
   "source": [
    "By looking at the simple frequencies, one is tempted to conclude that multiple protostars tend to show jets more often than single protostars. Is that conclusion correct? We will use the analysis of the contingency/frequency table to help us.\n"
   ]
  },
  {
   "cell_type": "code",
   "execution_count": 7,
   "metadata": {},
   "outputs": [],
   "source": [
    "from scipy.stats import fisher_exact, chi2_contingency\n",
    "# we extract the table as numpy array\n",
    "contingency_table = df[['No','Yes']]\n",
    "contingency_table = np.array(contingency_table.drop([2]))"
   ]
  },
  {
   "cell_type": "code",
   "execution_count": 8,
   "metadata": {},
   "outputs": [],
   "source": [
    "# hypothesis test of independence of the observed frequencies \n",
    "# in the contingency table\n",
    "# Expected = row total x column total / all cell total\n",
    "chi2,p_chi2,dof,expected = chi2_contingency(contingency_table)"
   ]
  },
  {
   "cell_type": "markdown",
   "metadata": {},
   "source": [
    "We perform a Chi-square test."
   ]
  },
  {
   "cell_type": "code",
   "execution_count": 9,
   "metadata": {},
   "outputs": [
    {
     "name": "stdout",
     "output_type": "stream",
     "text": [
      "Chi-square p-value is 0.27954138007236257\n"
     ]
    }
   ],
   "source": [
    "print \"Chi-square p-value is\",p_chi2"
   ]
  },
  {
   "cell_type": "code",
   "execution_count": 10,
   "metadata": {},
   "outputs": [
    {
     "data": {
      "text/html": [
       "<div>\n",
       "<style scoped>\n",
       "    .dataframe tbody tr th:only-of-type {\n",
       "        vertical-align: middle;\n",
       "    }\n",
       "\n",
       "    .dataframe tbody tr th {\n",
       "        vertical-align: top;\n",
       "    }\n",
       "\n",
       "    .dataframe thead th {\n",
       "        text-align: right;\n",
       "    }\n",
       "</style>\n",
       "<table border=\"1\" class=\"dataframe\">\n",
       "  <thead>\n",
       "    <tr style=\"text-align: right;\">\n",
       "      <th>Jet?</th>\n",
       "      <th>Yes</th>\n",
       "      <th>No</th>\n",
       "    </tr>\n",
       "    <tr>\n",
       "      <th>Multiplicity</th>\n",
       "      <th></th>\n",
       "      <th></th>\n",
       "    </tr>\n",
       "  </thead>\n",
       "  <tbody>\n",
       "    <tr>\n",
       "      <th>Single</th>\n",
       "      <td>5</td>\n",
       "      <td>9</td>\n",
       "    </tr>\n",
       "    <tr>\n",
       "      <th>Multiple</th>\n",
       "      <td>5</td>\n",
       "      <td>2</td>\n",
       "    </tr>\n",
       "  </tbody>\n",
       "</table>\n",
       "</div>"
      ],
      "text/plain": [
       "Jet?          Yes  No\n",
       "Multiplicity         \n",
       "Single          5   9\n",
       "Multiple        5   2"
      ]
     },
     "execution_count": 10,
     "metadata": {},
     "output_type": "execute_result"
    }
   ],
   "source": [
    "dfm = df.set_index('Multiplicity')\n",
    "dfm = dfm[['Yes','No']]\n",
    "dfm.drop('Total',inplace=True)\n",
    "dfm.columns.names =['Jet?']\n",
    "dfm"
   ]
  },
  {
   "cell_type": "code",
   "execution_count": 11,
   "metadata": {},
   "outputs": [
    {
     "data": {
      "image/png": "[encoded data removed]",
      "text/plain": [
       "<Figure size 432x288 with 3 Axes>"
      ]
     },
     "metadata": {},
     "output_type": "display_data"
    }
   ],
   "source": [
    "mosaic(dfm.stack(),gap=0.01,statistic=True)\n",
    "plt.show()"
   ]
  },
  {
   "cell_type": "code",
   "execution_count": 12,
   "metadata": {},
   "outputs": [
    {
     "data": {
      "text/html": [
       "<div>\n",
       "<style scoped>\n",
       "    .dataframe tbody tr th:only-of-type {\n",
       "        vertical-align: middle;\n",
       "    }\n",
       "\n",
       "    .dataframe tbody tr th {\n",
       "        vertical-align: top;\n",
       "    }\n",
       "\n",
       "    .dataframe thead th {\n",
       "        text-align: right;\n",
       "    }\n",
       "</style>\n",
       "<table border=\"1\" class=\"dataframe\">\n",
       "  <thead>\n",
       "    <tr style=\"text-align: right;\">\n",
       "      <th></th>\n",
       "      <th>Multiplicity</th>\n",
       "      <th>No</th>\n",
       "      <th>Yes</th>\n",
       "    </tr>\n",
       "  </thead>\n",
       "  <tbody>\n",
       "    <tr>\n",
       "      <th>0</th>\n",
       "      <td>Single</td>\n",
       "      <td>7.333333</td>\n",
       "      <td>6.666667</td>\n",
       "    </tr>\n",
       "    <tr>\n",
       "      <th>1</th>\n",
       "      <td>Multiple</td>\n",
       "      <td>3.666667</td>\n",
       "      <td>3.333333</td>\n",
       "    </tr>\n",
       "  </tbody>\n",
       "</table>\n",
       "</div>"
      ],
      "text/plain": [
       "  Multiplicity        No       Yes\n",
       "0       Single  7.333333  6.666667\n",
       "1     Multiple  3.666667  3.333333"
      ]
     },
     "execution_count": 12,
     "metadata": {},
     "output_type": "execute_result"
    }
   ],
   "source": [
    "df_expected=pd.DataFrame(expected,columns=['No','Yes'])\n",
    "df_expected=pd.concat((df['Multiplicity'].drop(2),df_expected),axis=1)\n",
    "df_expected"
   ]
  },
  {
   "cell_type": "code",
   "execution_count": 13,
   "metadata": {},
   "outputs": [],
   "source": [
    "oddsratio , p_fisher = fisher_exact(contingency_table)"
   ]
  },
  {
   "cell_type": "code",
   "execution_count": 14,
   "metadata": {},
   "outputs": [
    {
     "name": "stdout",
     "output_type": "stream",
     "text": [
      "Fisher's test p-value is 0.18266253869969057\n"
     ]
    }
   ],
   "source": [
    "# Fisher exact test is appropriate for small-n samples.\n",
    "print \"Fisher's test p-value is\", p_fisher"
   ]
  },
  {
   "cell_type": "markdown",
   "metadata": {},
   "source": [
    "The probability that we would observe this or an even more imbalanced ratio by chance is about 18.2 % (27.9% for the chi-square test). A commonly used significance level is 5%. if we adopt that, we can therefore conclude that our observed imbalance is not statistically significant: no significant effect of protostellar multiplicity on jet formation is present.\n",
    "The conlusion holds for the particular values in the table. The analyiss does not prevent bias in the sampling."
   ]
  },
  {
   "cell_type": "markdown",
   "metadata": {},
   "source": [
    "#### Standadized residual table\n",
    "\n",
    "The standardized residual table is more meaningful and is quite simple to interpret. The standardized residuals are simply the deviation from the expected value in standard deviation. A strandar residual is the residual value divided by the square-root of the expected value.\n",
    "\n"
   ]
  },
  {
   "cell_type": "code",
   "execution_count": 15,
   "metadata": {},
   "outputs": [
    {
     "name": "stdout",
     "output_type": "stream",
     "text": [
      "Resisuals\n"
     ]
    },
    {
     "data": {
      "text/html": [
       "<div>\n",
       "<style scoped>\n",
       "    .dataframe tbody tr th:only-of-type {\n",
       "        vertical-align: middle;\n",
       "    }\n",
       "\n",
       "    .dataframe tbody tr th {\n",
       "        vertical-align: top;\n",
       "    }\n",
       "\n",
       "    .dataframe thead th {\n",
       "        text-align: right;\n",
       "    }\n",
       "</style>\n",
       "<table border=\"1\" class=\"dataframe\">\n",
       "  <thead>\n",
       "    <tr style=\"text-align: right;\">\n",
       "      <th></th>\n",
       "      <th>Multiplicity</th>\n",
       "      <th>No</th>\n",
       "      <th>Yes</th>\n",
       "    </tr>\n",
       "  </thead>\n",
       "  <tbody>\n",
       "    <tr>\n",
       "      <th>0</th>\n",
       "      <td>Single</td>\n",
       "      <td>1.666667</td>\n",
       "      <td>-1.666667</td>\n",
       "    </tr>\n",
       "    <tr>\n",
       "      <th>1</th>\n",
       "      <td>Multiple</td>\n",
       "      <td>-1.666667</td>\n",
       "      <td>1.666667</td>\n",
       "    </tr>\n",
       "  </tbody>\n",
       "</table>\n",
       "</div>"
      ],
      "text/plain": [
       "  Multiplicity        No       Yes\n",
       "0       Single  1.666667 -1.666667\n",
       "1     Multiple -1.666667  1.666667"
      ]
     },
     "execution_count": 15,
     "metadata": {},
     "output_type": "execute_result"
    }
   ],
   "source": [
    "# standardized residuals see statisticshowto.com\n",
    "res = contingency_table-expected\n",
    "st_res = res/np.sqrt(expected)\n",
    "df_res=pd.DataFrame(res,columns=['No','Yes'])\n",
    "df_res=pd.concat((df['Multiplicity'].drop(2),df_res),axis=1)\n",
    "print \"Resisuals\"\n",
    "df_res"
   ]
  },
  {
   "cell_type": "markdown",
   "metadata": {},
   "source": [
    "All the standardized residual values are within 2-sigma deviation (in both directions). The higher occurence of jet for multiple protostars is most likely be due to pure chance."
   ]
  },
  {
   "cell_type": "code",
   "execution_count": 16,
   "metadata": {},
   "outputs": [],
   "source": [
    "# Wilson's estimator\n",
    "count = 5.\n",
    "total = 14.\n",
    "nbar = total + 4.\n",
    "pw = (count+2.)/nbar"
   ]
  },
  {
   "cell_type": "code",
   "execution_count": 17,
   "metadata": {},
   "outputs": [],
   "source": [
    "from scipy.stats import norm\n",
    "confidence = 0.95\n",
    "alpha = 1.-confidence\n",
    "z=norm.ppf(1-0.5*alpha)"
   ]
  },
  {
   "cell_type": "markdown",
   "metadata": {},
   "source": [
    "We use the Wilson's estimator (Estimation of the ratio of binomial random variables, see Feigelson & Babu, p.80)"
   ]
  },
  {
   "cell_type": "code",
   "execution_count": 18,
   "metadata": {},
   "outputs": [
    {
     "name": "stdout",
     "output_type": "stream",
     "text": [
      "z-score= 1.959963984540054\n",
      "0.388888888889 +/- 0.22520845746331428\n"
     ]
    }
   ],
   "source": [
    "print \"z-score=\",z\n",
    "interval=z*np.sqrt(pw*(1-pw)/nbar)\n",
    "print pw,\"+/-\",interval"
   ]
  },
  {
   "cell_type": "markdown",
   "metadata": {},
   "source": [
    "The Wilson estimator confirms the previous conclusion."
   ]
  },
  {
   "cell_type": "markdown",
   "metadata": {},
   "source": [
    "#### Part 2\n",
    "\n",
    "Aim: Test the null hypotheses that that the distribution of evolutionary classes is the same in all star-forming regions."
   ]
  },
  {
   "cell_type": "code",
   "execution_count": 19,
   "metadata": {},
   "outputs": [
    {
     "data": {
      "text/html": [
       "<div>\n",
       "<style scoped>\n",
       "    .dataframe tbody tr th:only-of-type {\n",
       "        vertical-align: middle;\n",
       "    }\n",
       "\n",
       "    .dataframe tbody tr th {\n",
       "        vertical-align: top;\n",
       "    }\n",
       "\n",
       "    .dataframe thead th {\n",
       "        text-align: right;\n",
       "    }\n",
       "</style>\n",
       "<table border=\"1\" class=\"dataframe\">\n",
       "  <thead>\n",
       "    <tr style=\"text-align: right;\">\n",
       "      <th></th>\n",
       "      <th>Cloud</th>\n",
       "      <th>O-O/I</th>\n",
       "      <th>I-flat</th>\n",
       "      <th>II</th>\n",
       "      <th>Trans</th>\n",
       "      <th>III</th>\n",
       "      <th>Reference</th>\n",
       "    </tr>\n",
       "  </thead>\n",
       "  <tbody>\n",
       "    <tr>\n",
       "      <th>0</th>\n",
       "      <td>Serpens</td>\n",
       "      <td>21</td>\n",
       "      <td>16</td>\n",
       "      <td>61</td>\n",
       "      <td>17</td>\n",
       "      <td>22</td>\n",
       "      <td>Winston et al. 2007</td>\n",
       "    </tr>\n",
       "    <tr>\n",
       "      <th>1</th>\n",
       "      <td>Chamaeleon I</td>\n",
       "      <td>1</td>\n",
       "      <td>14</td>\n",
       "      <td>90</td>\n",
       "      <td>4</td>\n",
       "      <td>95</td>\n",
       "      <td>Luhman et al. 2008</td>\n",
       "    </tr>\n",
       "    <tr>\n",
       "      <th>2</th>\n",
       "      <td>Taurus</td>\n",
       "      <td>2</td>\n",
       "      <td>42</td>\n",
       "      <td>179</td>\n",
       "      <td>5</td>\n",
       "      <td>126</td>\n",
       "      <td>Luhman et al. 2010</td>\n",
       "    </tr>\n",
       "    <tr>\n",
       "      <th>3</th>\n",
       "      <td>eta Cha</td>\n",
       "      <td>0</td>\n",
       "      <td>1</td>\n",
       "      <td>2</td>\n",
       "      <td>5</td>\n",
       "      <td>10</td>\n",
       "      <td>Sicilia-Aguilar et al. 2009</td>\n",
       "    </tr>\n",
       "  </tbody>\n",
       "</table>\n",
       "</div>"
      ],
      "text/plain": [
       "          Cloud  O-O/I  I-flat   II  Trans  III                    Reference\n",
       "0       Serpens     21      16   61     17   22          Winston et al. 2007\n",
       "1  Chamaeleon I      1      14   90      4   95           Luhman et al. 2008\n",
       "2        Taurus      2      42  179      5  126           Luhman et al. 2010\n",
       "3       eta Cha      0       1    2      5   10  Sicilia-Aguilar et al. 2009"
      ]
     },
     "execution_count": 19,
     "metadata": {},
     "output_type": "execute_result"
    }
   ],
   "source": [
    "df2=pd.read_csv(\"ProtostatPopulations.csv\")\n",
    "df2"
   ]
  },
  {
   "cell_type": "markdown",
   "metadata": {},
   "source": [
    "One can easily create by hand her/his own csv file with the values in the table above."
   ]
  },
  {
   "cell_type": "code",
   "execution_count": 20,
   "metadata": {},
   "outputs": [],
   "source": [
    "Type = ['O-O/I','I-flat','II','Trans','III']\n",
    "RC1 = np.array(df2[Type])\n",
    "from scipy.stats.contingency import margins\n",
    "m0, m1 = margins(RC1)"
   ]
  },
  {
   "cell_type": "code",
   "execution_count": 21,
   "metadata": {},
   "outputs": [
    {
     "data": {
      "text/html": [
       "<div>\n",
       "<style scoped>\n",
       "    .dataframe tbody tr th:only-of-type {\n",
       "        vertical-align: middle;\n",
       "    }\n",
       "\n",
       "    .dataframe tbody tr th {\n",
       "        vertical-align: top;\n",
       "    }\n",
       "\n",
       "    .dataframe thead th {\n",
       "        text-align: right;\n",
       "    }\n",
       "</style>\n",
       "<table border=\"1\" class=\"dataframe\">\n",
       "  <thead>\n",
       "    <tr style=\"text-align: right;\">\n",
       "      <th></th>\n",
       "      <th>Cloud</th>\n",
       "      <th>O-O/I</th>\n",
       "      <th>I-flat</th>\n",
       "      <th>II</th>\n",
       "      <th>Trans</th>\n",
       "      <th>III</th>\n",
       "    </tr>\n",
       "  </thead>\n",
       "  <tbody>\n",
       "    <tr>\n",
       "      <th>0</th>\n",
       "      <td>Serpens</td>\n",
       "      <td>15.328467</td>\n",
       "      <td>11.678832</td>\n",
       "      <td>44.525547</td>\n",
       "      <td>12.408759</td>\n",
       "      <td>16.058394</td>\n",
       "    </tr>\n",
       "    <tr>\n",
       "      <th>1</th>\n",
       "      <td>Chamaeleon I</td>\n",
       "      <td>0.490196</td>\n",
       "      <td>6.862745</td>\n",
       "      <td>44.117647</td>\n",
       "      <td>1.960784</td>\n",
       "      <td>46.568627</td>\n",
       "    </tr>\n",
       "    <tr>\n",
       "      <th>2</th>\n",
       "      <td>Taurus</td>\n",
       "      <td>0.564972</td>\n",
       "      <td>11.864407</td>\n",
       "      <td>50.564972</td>\n",
       "      <td>1.412429</td>\n",
       "      <td>35.593220</td>\n",
       "    </tr>\n",
       "    <tr>\n",
       "      <th>3</th>\n",
       "      <td>eta Cha</td>\n",
       "      <td>0.000000</td>\n",
       "      <td>5.555556</td>\n",
       "      <td>11.111111</td>\n",
       "      <td>27.777778</td>\n",
       "      <td>55.555556</td>\n",
       "    </tr>\n",
       "  </tbody>\n",
       "</table>\n",
       "</div>"
      ],
      "text/plain": [
       "          Cloud      O-O/I     I-flat         II      Trans        III\n",
       "0       Serpens  15.328467  11.678832  44.525547  12.408759  16.058394\n",
       "1  Chamaeleon I   0.490196   6.862745  44.117647   1.960784  46.568627\n",
       "2        Taurus   0.564972  11.864407  50.564972   1.412429  35.593220\n",
       "3       eta Cha   0.000000   5.555556  11.111111  27.777778  55.555556"
      ]
     },
     "execution_count": 21,
     "metadata": {},
     "output_type": "execute_result"
    }
   ],
   "source": [
    "row_proportion=pd.DataFrame(RC1/(1.*m0)*100.,columns=Type)\n",
    "row_proportion=pd.concat((df2['Cloud'],row_proportion),axis=1)\n",
    "row_proportion"
   ]
  },
  {
   "cell_type": "code",
   "execution_count": 22,
   "metadata": {},
   "outputs": [
    {
     "data": {
      "image/png": "[encoded data removed]",
      "text/plain": [
       "<Figure size 648x504 with 1 Axes>"
      ]
     },
     "metadata": {},
     "output_type": "display_data"
    }
   ],
   "source": [
    "plt.figure(figsize=(9,7))\n",
    "parallel_coordinates(row_proportion,'Cloud',\n",
    "                     color=('#556270','#4ECDC4', '#C7F464','cyan'),alpha=1.0)\n",
    "plt.xlabel('Evolutionary stage')\n",
    "plt.ylabel('Proportion amoung yong stellar objects (%)')\n",
    "plt.show()"
   ]
  },
  {
   "cell_type": "code",
   "execution_count": 23,
   "metadata": {},
   "outputs": [
    {
     "data": {
      "text/html": [
       "<div>\n",
       "<style scoped>\n",
       "    .dataframe tbody tr th:only-of-type {\n",
       "        vertical-align: middle;\n",
       "    }\n",
       "\n",
       "    .dataframe tbody tr th {\n",
       "        vertical-align: top;\n",
       "    }\n",
       "\n",
       "    .dataframe thead th {\n",
       "        text-align: right;\n",
       "    }\n",
       "</style>\n",
       "<table border=\"1\" class=\"dataframe\">\n",
       "  <thead>\n",
       "    <tr style=\"text-align: right;\">\n",
       "      <th></th>\n",
       "      <th>Cloud</th>\n",
       "      <th>O-O/I</th>\n",
       "      <th>I-flat</th>\n",
       "      <th>II</th>\n",
       "      <th>Trans</th>\n",
       "      <th>III</th>\n",
       "    </tr>\n",
       "  </thead>\n",
       "  <tbody>\n",
       "    <tr>\n",
       "      <th>0</th>\n",
       "      <td>Serpens</td>\n",
       "      <td>87.500000</td>\n",
       "      <td>21.917808</td>\n",
       "      <td>18.373494</td>\n",
       "      <td>54.838710</td>\n",
       "      <td>8.695652</td>\n",
       "    </tr>\n",
       "    <tr>\n",
       "      <th>1</th>\n",
       "      <td>Chamaeleon I</td>\n",
       "      <td>4.166667</td>\n",
       "      <td>19.178082</td>\n",
       "      <td>27.108434</td>\n",
       "      <td>12.903226</td>\n",
       "      <td>37.549407</td>\n",
       "    </tr>\n",
       "    <tr>\n",
       "      <th>2</th>\n",
       "      <td>Taurus</td>\n",
       "      <td>8.333333</td>\n",
       "      <td>57.534247</td>\n",
       "      <td>53.915663</td>\n",
       "      <td>16.129032</td>\n",
       "      <td>49.802372</td>\n",
       "    </tr>\n",
       "    <tr>\n",
       "      <th>3</th>\n",
       "      <td>eta Cha</td>\n",
       "      <td>0.000000</td>\n",
       "      <td>1.369863</td>\n",
       "      <td>0.602410</td>\n",
       "      <td>16.129032</td>\n",
       "      <td>3.952569</td>\n",
       "    </tr>\n",
       "  </tbody>\n",
       "</table>\n",
       "</div>"
      ],
      "text/plain": [
       "          Cloud      O-O/I     I-flat         II      Trans        III\n",
       "0       Serpens  87.500000  21.917808  18.373494  54.838710   8.695652\n",
       "1  Chamaeleon I   4.166667  19.178082  27.108434  12.903226  37.549407\n",
       "2        Taurus   8.333333  57.534247  53.915663  16.129032  49.802372\n",
       "3       eta Cha   0.000000   1.369863   0.602410  16.129032   3.952569"
      ]
     },
     "execution_count": 23,
     "metadata": {},
     "output_type": "execute_result"
    }
   ],
   "source": [
    "column_proportion=pd.DataFrame(RC1/(1.*m1)*100.,columns=Type)\n",
    "column_proportion=pd.concat((df2['Cloud'],column_proportion),axis=1)\n",
    "column_proportion"
   ]
  },
  {
   "cell_type": "code",
   "execution_count": 24,
   "metadata": {},
   "outputs": [],
   "source": [
    "chi2,p_chi2,dof,expected = chi2_contingency(RC1)"
   ]
  },
  {
   "cell_type": "markdown",
   "metadata": {},
   "source": [
    "We perform a Chi-square test."
   ]
  },
  {
   "cell_type": "code",
   "execution_count": 25,
   "metadata": {},
   "outputs": [
    {
     "name": "stdout",
     "output_type": "stream",
     "text": [
      "Chi-square p-value is 8.440817353859272e-28\n"
     ]
    }
   ],
   "source": [
    "print \"Chi-square p-value is\",p_chi2"
   ]
  },
  {
   "cell_type": "markdown",
   "metadata": {},
   "source": [
    "The p-values << 1, significant differences exist."
   ]
  },
  {
   "cell_type": "code",
   "execution_count": 26,
   "metadata": {},
   "outputs": [
    {
     "name": "stdout",
     "output_type": "stream",
     "text": [
      "Expected\n"
     ]
    },
    {
     "data": {
      "text/html": [
       "<div>\n",
       "<style scoped>\n",
       "    .dataframe tbody tr th:only-of-type {\n",
       "        vertical-align: middle;\n",
       "    }\n",
       "\n",
       "    .dataframe tbody tr th {\n",
       "        vertical-align: top;\n",
       "    }\n",
       "\n",
       "    .dataframe thead th {\n",
       "        text-align: right;\n",
       "    }\n",
       "</style>\n",
       "<table border=\"1\" class=\"dataframe\">\n",
       "  <thead>\n",
       "    <tr style=\"text-align: right;\">\n",
       "      <th></th>\n",
       "      <th>Cloud</th>\n",
       "      <th>O-O/I</th>\n",
       "      <th>I-flat</th>\n",
       "      <th>II</th>\n",
       "      <th>Trans</th>\n",
       "      <th>III</th>\n",
       "    </tr>\n",
       "  </thead>\n",
       "  <tbody>\n",
       "    <tr>\n",
       "      <th>0</th>\n",
       "      <td>Serpens</td>\n",
       "      <td>4.611501</td>\n",
       "      <td>14.026648</td>\n",
       "      <td>63.792426</td>\n",
       "      <td>5.956522</td>\n",
       "      <td>48.612903</td>\n",
       "    </tr>\n",
       "    <tr>\n",
       "      <th>1</th>\n",
       "      <td>Chamaeleon I</td>\n",
       "      <td>6.866760</td>\n",
       "      <td>20.886396</td>\n",
       "      <td>94.990182</td>\n",
       "      <td>8.869565</td>\n",
       "      <td>72.387097</td>\n",
       "    </tr>\n",
       "    <tr>\n",
       "      <th>2</th>\n",
       "      <td>Taurus</td>\n",
       "      <td>11.915849</td>\n",
       "      <td>36.244039</td>\n",
       "      <td>164.835905</td>\n",
       "      <td>15.391304</td>\n",
       "      <td>125.612903</td>\n",
       "    </tr>\n",
       "    <tr>\n",
       "      <th>3</th>\n",
       "      <td>eta Cha</td>\n",
       "      <td>0.605891</td>\n",
       "      <td>1.842917</td>\n",
       "      <td>8.381487</td>\n",
       "      <td>0.782609</td>\n",
       "      <td>6.387097</td>\n",
       "    </tr>\n",
       "  </tbody>\n",
       "</table>\n",
       "</div>"
      ],
      "text/plain": [
       "          Cloud      O-O/I     I-flat          II      Trans         III\n",
       "0       Serpens   4.611501  14.026648   63.792426   5.956522   48.612903\n",
       "1  Chamaeleon I   6.866760  20.886396   94.990182   8.869565   72.387097\n",
       "2        Taurus  11.915849  36.244039  164.835905  15.391304  125.612903\n",
       "3       eta Cha   0.605891   1.842917    8.381487   0.782609    6.387097"
      ]
     },
     "execution_count": 26,
     "metadata": {},
     "output_type": "execute_result"
    }
   ],
   "source": [
    "# Expected = row total x column total / all cell total\n",
    "df_expected=pd.DataFrame(expected,columns=Type)\n",
    "df_expected=pd.concat((df2['Cloud'],df_expected),axis=1)\n",
    "print \"Expected\"\n",
    "df_expected"
   ]
  },
  {
   "cell_type": "markdown",
   "metadata": {},
   "source": [
    "Table of expected values: Expected = row total x column total / all cell total"
   ]
  },
  {
   "cell_type": "code",
   "execution_count": 27,
   "metadata": {},
   "outputs": [
    {
     "name": "stdout",
     "output_type": "stream",
     "text": [
      "Resisuals\n"
     ]
    },
    {
     "data": {
      "text/html": [
       "<div>\n",
       "<style scoped>\n",
       "    .dataframe tbody tr th:only-of-type {\n",
       "        vertical-align: middle;\n",
       "    }\n",
       "\n",
       "    .dataframe tbody tr th {\n",
       "        vertical-align: top;\n",
       "    }\n",
       "\n",
       "    .dataframe thead th {\n",
       "        text-align: right;\n",
       "    }\n",
       "</style>\n",
       "<table border=\"1\" class=\"dataframe\">\n",
       "  <thead>\n",
       "    <tr style=\"text-align: right;\">\n",
       "      <th></th>\n",
       "      <th>Cloud</th>\n",
       "      <th>O-O/I</th>\n",
       "      <th>I-flat</th>\n",
       "      <th>II</th>\n",
       "      <th>Trans</th>\n",
       "      <th>III</th>\n",
       "    </tr>\n",
       "  </thead>\n",
       "  <tbody>\n",
       "    <tr>\n",
       "      <th>0</th>\n",
       "      <td>Serpens</td>\n",
       "      <td>16.388499</td>\n",
       "      <td>1.973352</td>\n",
       "      <td>-2.792426</td>\n",
       "      <td>11.043478</td>\n",
       "      <td>-26.612903</td>\n",
       "    </tr>\n",
       "    <tr>\n",
       "      <th>1</th>\n",
       "      <td>Chamaeleon I</td>\n",
       "      <td>-5.866760</td>\n",
       "      <td>-6.886396</td>\n",
       "      <td>-4.990182</td>\n",
       "      <td>-4.869565</td>\n",
       "      <td>22.612903</td>\n",
       "    </tr>\n",
       "    <tr>\n",
       "      <th>2</th>\n",
       "      <td>Taurus</td>\n",
       "      <td>-9.915849</td>\n",
       "      <td>5.755961</td>\n",
       "      <td>14.164095</td>\n",
       "      <td>-10.391304</td>\n",
       "      <td>0.387097</td>\n",
       "    </tr>\n",
       "    <tr>\n",
       "      <th>3</th>\n",
       "      <td>eta Cha</td>\n",
       "      <td>-0.605891</td>\n",
       "      <td>-0.842917</td>\n",
       "      <td>-6.381487</td>\n",
       "      <td>4.217391</td>\n",
       "      <td>3.612903</td>\n",
       "    </tr>\n",
       "  </tbody>\n",
       "</table>\n",
       "</div>"
      ],
      "text/plain": [
       "          Cloud      O-O/I    I-flat         II      Trans        III\n",
       "0       Serpens  16.388499  1.973352  -2.792426  11.043478 -26.612903\n",
       "1  Chamaeleon I  -5.866760 -6.886396  -4.990182  -4.869565  22.612903\n",
       "2        Taurus  -9.915849  5.755961  14.164095 -10.391304   0.387097\n",
       "3       eta Cha  -0.605891 -0.842917  -6.381487   4.217391   3.612903"
      ]
     },
     "execution_count": 27,
     "metadata": {},
     "output_type": "execute_result"
    }
   ],
   "source": [
    "res = RC1-expected\n",
    "df_res=pd.DataFrame(res,columns=Type)\n",
    "df_res=pd.concat((df2['Cloud'],df_res),axis=1)\n",
    "print \"Resisuals\"\n",
    "df_res"
   ]
  },
  {
   "cell_type": "markdown",
   "metadata": {},
   "source": [
    "The residual table is just the contngency table values - the expected values."
   ]
  },
  {
   "cell_type": "code",
   "execution_count": 28,
   "metadata": {},
   "outputs": [],
   "source": [
    "# standardized residuals see statisticshowto.com\n",
    "st_res = res/np.sqrt(expected)"
   ]
  },
  {
   "cell_type": "code",
   "execution_count": 29,
   "metadata": {},
   "outputs": [],
   "source": [
    "df_st_res=pd.DataFrame(st_res,columns=Type)"
   ]
  },
  {
   "cell_type": "code",
   "execution_count": 30,
   "metadata": {},
   "outputs": [],
   "source": [
    "df_st_res=pd.concat((df2['Cloud'],df_st_res),axis=1)"
   ]
  },
  {
   "cell_type": "code",
   "execution_count": 31,
   "metadata": {},
   "outputs": [
    {
     "name": "stdout",
     "output_type": "stream",
     "text": [
      "Standardized residuals\n"
     ]
    },
    {
     "data": {
      "text/html": [
       "<div>\n",
       "<style scoped>\n",
       "    .dataframe tbody tr th:only-of-type {\n",
       "        vertical-align: middle;\n",
       "    }\n",
       "\n",
       "    .dataframe tbody tr th {\n",
       "        vertical-align: top;\n",
       "    }\n",
       "\n",
       "    .dataframe thead th {\n",
       "        text-align: right;\n",
       "    }\n",
       "</style>\n",
       "<table border=\"1\" class=\"dataframe\">\n",
       "  <thead>\n",
       "    <tr style=\"text-align: right;\">\n",
       "      <th></th>\n",
       "      <th>Cloud</th>\n",
       "      <th>O-O/I</th>\n",
       "      <th>I-flat</th>\n",
       "      <th>II</th>\n",
       "      <th>Trans</th>\n",
       "      <th>III</th>\n",
       "    </tr>\n",
       "  </thead>\n",
       "  <tbody>\n",
       "    <tr>\n",
       "      <th>0</th>\n",
       "      <td>Serpens</td>\n",
       "      <td>7.631643</td>\n",
       "      <td>0.526899</td>\n",
       "      <td>-0.349621</td>\n",
       "      <td>4.524906</td>\n",
       "      <td>-3.816950</td>\n",
       "    </tr>\n",
       "    <tr>\n",
       "      <th>1</th>\n",
       "      <td>Chamaeleon I</td>\n",
       "      <td>-2.238837</td>\n",
       "      <td>-1.506816</td>\n",
       "      <td>-0.512008</td>\n",
       "      <td>-1.635080</td>\n",
       "      <td>2.657821</td>\n",
       "    </tr>\n",
       "    <tr>\n",
       "      <th>2</th>\n",
       "      <td>Taurus</td>\n",
       "      <td>-2.872549</td>\n",
       "      <td>0.956092</td>\n",
       "      <td>1.103222</td>\n",
       "      <td>-2.648697</td>\n",
       "      <td>0.034538</td>\n",
       "    </tr>\n",
       "    <tr>\n",
       "      <th>3</th>\n",
       "      <td>eta Cha</td>\n",
       "      <td>-0.778390</td>\n",
       "      <td>-0.620915</td>\n",
       "      <td>-2.204252</td>\n",
       "      <td>4.767290</td>\n",
       "      <td>1.429567</td>\n",
       "    </tr>\n",
       "  </tbody>\n",
       "</table>\n",
       "</div>"
      ],
      "text/plain": [
       "          Cloud     O-O/I    I-flat        II     Trans       III\n",
       "0       Serpens  7.631643  0.526899 -0.349621  4.524906 -3.816950\n",
       "1  Chamaeleon I -2.238837 -1.506816 -0.512008 -1.635080  2.657821\n",
       "2        Taurus -2.872549  0.956092  1.103222 -2.648697  0.034538\n",
       "3       eta Cha -0.778390 -0.620915 -2.204252  4.767290  1.429567"
      ]
     },
     "execution_count": 31,
     "metadata": {},
     "output_type": "execute_result"
    }
   ],
   "source": [
    "print \"Standardized residuals\"\n",
    "df_st_res"
   ]
  },
  {
   "cell_type": "markdown",
   "metadata": {},
   "source": [
    "A couple of remarks can be made from the standardized residual table. The Serpens star-forming region has 7.6 sigma more class O and O-I objects than expected, while it has a strong deficit in class III objects (-3.8). eta Cha shows a siginificant excess of more evolved objects (Transition and class III objects) and a deficit of young class O - O/I objects. The Chamaeleon I and Taurus clouds have many intermediate stage class I-flat and class II objects. The standardized residual table illustrate the disk-formation stage of each cloud."
   ]
  },
  {
   "cell_type": "code",
   "execution_count": 32,
   "metadata": {},
   "outputs": [],
   "source": [
    "# adjusted residuals\n",
    "row_total_proportion = 1.0*m0/m0.sum()\n",
    "column_total_proportion = 1.0*m1/m1.sum()\n",
    "adj_res = (RC1-expected)/np.sqrt(expected*\n",
    "                (1.-row_total_proportion)*(1.-column_total_proportion))"
   ]
  },
  {
   "cell_type": "code",
   "execution_count": 33,
   "metadata": {},
   "outputs": [
    {
     "name": "stdout",
     "output_type": "stream",
     "text": [
      "Adjusted residuals\n"
     ]
    },
    {
     "data": {
      "text/html": [
       "<div>\n",
       "<style scoped>\n",
       "    .dataframe tbody tr th:only-of-type {\n",
       "        vertical-align: middle;\n",
       "    }\n",
       "\n",
       "    .dataframe tbody tr th {\n",
       "        vertical-align: top;\n",
       "    }\n",
       "\n",
       "    .dataframe thead th {\n",
       "        text-align: right;\n",
       "    }\n",
       "</style>\n",
       "<table border=\"1\" class=\"dataframe\">\n",
       "  <thead>\n",
       "    <tr style=\"text-align: right;\">\n",
       "      <th></th>\n",
       "      <th>Cloud</th>\n",
       "      <th>O-O/I</th>\n",
       "      <th>I-flat</th>\n",
       "      <th>II</th>\n",
       "      <th>Trans</th>\n",
       "      <th>III</th>\n",
       "    </tr>\n",
       "  </thead>\n",
       "  <tbody>\n",
       "    <tr>\n",
       "      <th>0</th>\n",
       "      <td>Serpens</td>\n",
       "      <td>8.637473</td>\n",
       "      <td>0.618751</td>\n",
       "      <td>-0.532124</td>\n",
       "      <td>5.147491</td>\n",
       "      <td>-5.287080</td>\n",
       "    </tr>\n",
       "    <tr>\n",
       "      <th>1</th>\n",
       "      <td>Chamaeleon I</td>\n",
       "      <td>-2.695525</td>\n",
       "      <td>-1.882352</td>\n",
       "      <td>-0.828982</td>\n",
       "      <td>-1.978689</td>\n",
       "      <td>3.916314</td>\n",
       "    </tr>\n",
       "    <tr>\n",
       "      <th>2</th>\n",
       "      <td>Taurus</td>\n",
       "      <td>-4.118130</td>\n",
       "      <td>1.422171</td>\n",
       "      <td>2.126879</td>\n",
       "      <td>-3.816651</td>\n",
       "      <td>0.060599</td>\n",
       "    </tr>\n",
       "    <tr>\n",
       "      <th>3</th>\n",
       "      <td>eta Cha</td>\n",
       "      <td>-0.802019</td>\n",
       "      <td>-0.663803</td>\n",
       "      <td>-3.054189</td>\n",
       "      <td>4.937152</td>\n",
       "      <td>1.802697</td>\n",
       "    </tr>\n",
       "  </tbody>\n",
       "</table>\n",
       "</div>"
      ],
      "text/plain": [
       "          Cloud     O-O/I    I-flat        II     Trans       III\n",
       "0       Serpens  8.637473  0.618751 -0.532124  5.147491 -5.287080\n",
       "1  Chamaeleon I -2.695525 -1.882352 -0.828982 -1.978689  3.916314\n",
       "2        Taurus -4.118130  1.422171  2.126879 -3.816651  0.060599\n",
       "3       eta Cha -0.802019 -0.663803 -3.054189  4.937152  1.802697"
      ]
     },
     "execution_count": 33,
     "metadata": {},
     "output_type": "execute_result"
    }
   ],
   "source": [
    "df_adj_res=pd.DataFrame(adj_res,columns=Type)\n",
    "df_adj_res=pd.concat((df2['Cloud'],df_adj_res),axis=1)\n",
    "print \"Adjusted residuals\"\n",
    "df_adj_res"
   ]
  },
  {
   "cell_type": "markdown",
   "metadata": {},
   "source": [
    "The adjusted residual table is an alternative to the residual table and carries the same information.\n",
    "\n",
    "One does not necessarily need large amounts of data to perform insightful\n",
    "data analysis."
   ]
  },
  {
   "cell_type": "code",
   "execution_count": 34,
   "metadata": {},
   "outputs": [],
   "source": [
    "# sudo pip install FisherExact\n",
    "from FisherExact import fisher_exact"
   ]
  },
  {
   "cell_type": "code",
   "execution_count": 35,
   "metadata": {},
   "outputs": [
    {
     "data": {
      "text/plain": [
       "0.011825369366598965"
      ]
     },
     "execution_count": 35,
     "metadata": {},
     "output_type": "execute_result"
    }
   ],
   "source": [
    "pvalue = fisher_exact([[8, 2, 12], [1, 5, 2]])\n",
    "pvalue"
   ]
  },
  {
   "cell_type": "code",
   "execution_count": 36,
   "metadata": {},
   "outputs": [
    {
     "data": {
      "text/html": [
       "<div>\n",
       "<style scoped>\n",
       "    .dataframe tbody tr th:only-of-type {\n",
       "        vertical-align: middle;\n",
       "    }\n",
       "\n",
       "    .dataframe tbody tr th {\n",
       "        vertical-align: top;\n",
       "    }\n",
       "\n",
       "    .dataframe thead th {\n",
       "        text-align: right;\n",
       "    }\n",
       "</style>\n",
       "<table border=\"1\" class=\"dataframe\">\n",
       "  <thead>\n",
       "    <tr style=\"text-align: right;\">\n",
       "      <th></th>\n",
       "      <th>Cloud</th>\n",
       "      <th>O-O/I</th>\n",
       "      <th>I-flat</th>\n",
       "      <th>II</th>\n",
       "      <th>Trans</th>\n",
       "      <th>III</th>\n",
       "      <th>Reference</th>\n",
       "    </tr>\n",
       "  </thead>\n",
       "  <tbody>\n",
       "    <tr>\n",
       "      <th>0</th>\n",
       "      <td>Serpens</td>\n",
       "      <td>21</td>\n",
       "      <td>16</td>\n",
       "      <td>61</td>\n",
       "      <td>17</td>\n",
       "      <td>22</td>\n",
       "      <td>Winston et al. 2007</td>\n",
       "    </tr>\n",
       "    <tr>\n",
       "      <th>1</th>\n",
       "      <td>Chamaeleon I</td>\n",
       "      <td>1</td>\n",
       "      <td>14</td>\n",
       "      <td>90</td>\n",
       "      <td>4</td>\n",
       "      <td>95</td>\n",
       "      <td>Luhman et al. 2008</td>\n",
       "    </tr>\n",
       "    <tr>\n",
       "      <th>2</th>\n",
       "      <td>Taurus</td>\n",
       "      <td>2</td>\n",
       "      <td>42</td>\n",
       "      <td>179</td>\n",
       "      <td>5</td>\n",
       "      <td>126</td>\n",
       "      <td>Luhman et al. 2010</td>\n",
       "    </tr>\n",
       "    <tr>\n",
       "      <th>3</th>\n",
       "      <td>eta Cha</td>\n",
       "      <td>0</td>\n",
       "      <td>1</td>\n",
       "      <td>2</td>\n",
       "      <td>5</td>\n",
       "      <td>10</td>\n",
       "      <td>Sicilia-Aguilar et al. 2009</td>\n",
       "    </tr>\n",
       "  </tbody>\n",
       "</table>\n",
       "</div>"
      ],
      "text/plain": [
       "          Cloud  O-O/I  I-flat   II  Trans  III                    Reference\n",
       "0       Serpens     21      16   61     17   22          Winston et al. 2007\n",
       "1  Chamaeleon I      1      14   90      4   95           Luhman et al. 2008\n",
       "2        Taurus      2      42  179      5  126           Luhman et al. 2010\n",
       "3       eta Cha      0       1    2      5   10  Sicilia-Aguilar et al. 2009"
      ]
     },
     "execution_count": 36,
     "metadata": {},
     "output_type": "execute_result"
    }
   ],
   "source": [
    "df2"
   ]
  },
  {
   "cell_type": "code",
   "execution_count": 37,
   "metadata": {},
   "outputs": [
    {
     "data": {
      "image/png": "[encoded data removed]",
      "text/plain": [
       "<Figure size 648x504 with 1 Axes>"
      ]
     },
     "metadata": {},
     "output_type": "display_data"
    }
   ],
   "source": [
    "df2m = df2[['Cloud','O-O/I','I-flat','II','Trans','III']]\n",
    "df2m = df2m.set_index('Cloud')\n",
    "fig=plt.figure(figsize=(9,7))\n",
    "ax = fig.add_subplot(111)\n",
    "m, rect = mosaic(df2m.stack(),ax=ax,gap=0.05,statistic=True,axes_label=False,horizontal=False)\n",
    "plt.show()"
   ]
  },
  {
   "cell_type": "code",
   "execution_count": 38,
   "metadata": {},
   "outputs": [
    {
     "data": {
      "text/html": [
       "<div>\n",
       "<style scoped>\n",
       "    .dataframe tbody tr th:only-of-type {\n",
       "        vertical-align: middle;\n",
       "    }\n",
       "\n",
       "    .dataframe tbody tr th {\n",
       "        vertical-align: top;\n",
       "    }\n",
       "\n",
       "    .dataframe thead th {\n",
       "        text-align: right;\n",
       "    }\n",
       "</style>\n",
       "<table border=\"1\" class=\"dataframe\">\n",
       "  <thead>\n",
       "    <tr style=\"text-align: right;\">\n",
       "      <th></th>\n",
       "      <th>O-O/I</th>\n",
       "      <th>I-flat</th>\n",
       "      <th>II</th>\n",
       "      <th>Trans</th>\n",
       "      <th>III</th>\n",
       "    </tr>\n",
       "    <tr>\n",
       "      <th>Cloud</th>\n",
       "      <th></th>\n",
       "      <th></th>\n",
       "      <th></th>\n",
       "      <th></th>\n",
       "      <th></th>\n",
       "    </tr>\n",
       "  </thead>\n",
       "  <tbody>\n",
       "    <tr>\n",
       "      <th>Serpens</th>\n",
       "      <td>21</td>\n",
       "      <td>16</td>\n",
       "      <td>61</td>\n",
       "      <td>17</td>\n",
       "      <td>22</td>\n",
       "    </tr>\n",
       "    <tr>\n",
       "      <th>Chamaeleon I</th>\n",
       "      <td>1</td>\n",
       "      <td>14</td>\n",
       "      <td>90</td>\n",
       "      <td>4</td>\n",
       "      <td>95</td>\n",
       "    </tr>\n",
       "    <tr>\n",
       "      <th>Taurus</th>\n",
       "      <td>2</td>\n",
       "      <td>42</td>\n",
       "      <td>179</td>\n",
       "      <td>5</td>\n",
       "      <td>126</td>\n",
       "    </tr>\n",
       "    <tr>\n",
       "      <th>eta Cha</th>\n",
       "      <td>0</td>\n",
       "      <td>1</td>\n",
       "      <td>2</td>\n",
       "      <td>5</td>\n",
       "      <td>10</td>\n",
       "    </tr>\n",
       "  </tbody>\n",
       "</table>\n",
       "</div>"
      ],
      "text/plain": [
       "              O-O/I  I-flat   II  Trans  III\n",
       "Cloud                                       \n",
       "Serpens          21      16   61     17   22\n",
       "Chamaeleon I      1      14   90      4   95\n",
       "Taurus            2      42  179      5  126\n",
       "eta Cha           0       1    2      5   10"
      ]
     },
     "execution_count": 38,
     "metadata": {},
     "output_type": "execute_result"
    }
   ],
   "source": [
    "df2m"
   ]
  },
  {
   "cell_type": "code",
   "execution_count": null,
   "metadata": {},
   "outputs": [],
   "source": []
  }
 ],
 "metadata": {
  "kernelspec": {
   "display_name": "Python 2",
   "language": "python",
   "name": "python2"
  },
  "language_info": {
   "codemirror_mode": {
    "name": "ipython",
    "version": 2
   },
   "file_extension": ".py",
   "mimetype": "text/x-python",
   "name": "python",
   "nbconvert_exporter": "python",
   "pygments_lexer": "ipython2",
   "version": "2.7.14"
  }
 },
 "nbformat": 4,
 "nbformat_minor": 2
}
